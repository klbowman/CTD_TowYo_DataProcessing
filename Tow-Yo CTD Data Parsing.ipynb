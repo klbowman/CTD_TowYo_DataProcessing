{
 "cells": [
  {
   "cell_type": "markdown",
   "id": "179e0bb0",
   "metadata": {},
   "source": [
    "# Tow-Yo CTD Data Parsing"
   ]
  },
  {
   "cell_type": "markdown",
   "id": "f6cf699c",
   "metadata": {},
   "source": [
    "### Import and clean unbinned data"
   ]
  },
  {
   "cell_type": "code",
   "execution_count": 15,
   "id": "d78c6269",
   "metadata": {},
   "outputs": [],
   "source": [
    "#Import dependencies\n",
    "import pandas as pd\n",
    "import matplotlib.pyplot as plt"
   ]
  },
  {
   "cell_type": "code",
   "execution_count": 2,
   "id": "4ec304cf",
   "metadata": {},
   "outputs": [],
   "source": [
    "#Import unbinned data as CSV file\n",
    "df = pd.read_csv('YOUR_FILE_NAME_HERE.csv')"
   ]
  },
  {
   "cell_type": "code",
   "execution_count": 3,
   "id": "6d65d715",
   "metadata": {},
   "outputs": [
    {
     "data": {
      "text/html": [
       "<div>\n",
       "<style scoped>\n",
       "    .dataframe tbody tr th:only-of-type {\n",
       "        vertical-align: middle;\n",
       "    }\n",
       "\n",
       "    .dataframe tbody tr th {\n",
       "        vertical-align: top;\n",
       "    }\n",
       "\n",
       "    .dataframe thead th {\n",
       "        text-align: right;\n",
       "    }\n",
       "</style>\n",
       "<table border=\"1\" class=\"dataframe\">\n",
       "  <thead>\n",
       "    <tr style=\"text-align: right;\">\n",
       "      <th></th>\n",
       "      <th>Depth [m]</th>\n",
       "      <th>Pressure [db]</th>\n",
       "      <th>Temperature [ITS-90, deg C]</th>\n",
       "      <th>Conductivity [S/m]</th>\n",
       "      <th>Salinity [PSU]</th>\n",
       "      <th>Density [sigma-theta, kg/m^3]</th>\n",
       "      <th>Fluorescence, WET Labs ECO-AFL/FL [mg/m^3]</th>\n",
       "      <th>Beam Transmission, WET Labs C-Star [%]</th>\n",
       "      <th>Beam Attenuation, WET Labs C-Star [1/m]</th>\n",
       "      <th>Oxygen, SBE 43 [umol/kg]</th>\n",
       "      <th>Time, Elapsed [minutes]</th>\n",
       "      <th>Latitude [deg]</th>\n",
       "      <th>Longitude [deg]</th>\n",
       "    </tr>\n",
       "  </thead>\n",
       "  <tbody>\n",
       "    <tr>\n",
       "      <th>0</th>\n",
       "      <td>1.152</td>\n",
       "      <td>1.159</td>\n",
       "      <td>26.9089</td>\n",
       "      <td>1.109874</td>\n",
       "      <td>6.0426</td>\n",
       "      <td>1.0671</td>\n",
       "      <td>-0.2534</td>\n",
       "      <td>94.0726</td>\n",
       "      <td>0.2444</td>\n",
       "      <td>243.296</td>\n",
       "      <td>0.0000</td>\n",
       "      <td>10.33738</td>\n",
       "      <td>-117.19008</td>\n",
       "    </tr>\n",
       "    <tr>\n",
       "      <th>1</th>\n",
       "      <td>1.152</td>\n",
       "      <td>1.159</td>\n",
       "      <td>26.9089</td>\n",
       "      <td>1.109675</td>\n",
       "      <td>6.0414</td>\n",
       "      <td>1.0662</td>\n",
       "      <td>-0.2534</td>\n",
       "      <td>94.0726</td>\n",
       "      <td>0.2444</td>\n",
       "      <td>243.298</td>\n",
       "      <td>0.0007</td>\n",
       "      <td>10.33738</td>\n",
       "      <td>-117.19008</td>\n",
       "    </tr>\n",
       "    <tr>\n",
       "      <th>2</th>\n",
       "      <td>1.191</td>\n",
       "      <td>1.198</td>\n",
       "      <td>26.9089</td>\n",
       "      <td>1.109942</td>\n",
       "      <td>6.0430</td>\n",
       "      <td>1.0674</td>\n",
       "      <td>-0.2534</td>\n",
       "      <td>94.0726</td>\n",
       "      <td>0.2444</td>\n",
       "      <td>243.296</td>\n",
       "      <td>0.0014</td>\n",
       "      <td>10.33738</td>\n",
       "      <td>-117.19008</td>\n",
       "    </tr>\n",
       "    <tr>\n",
       "      <th>3</th>\n",
       "      <td>1.099</td>\n",
       "      <td>1.105</td>\n",
       "      <td>26.9085</td>\n",
       "      <td>1.110464</td>\n",
       "      <td>6.0461</td>\n",
       "      <td>1.0698</td>\n",
       "      <td>-0.2534</td>\n",
       "      <td>94.0726</td>\n",
       "      <td>0.2444</td>\n",
       "      <td>243.291</td>\n",
       "      <td>0.0021</td>\n",
       "      <td>10.33738</td>\n",
       "      <td>-117.19008</td>\n",
       "    </tr>\n",
       "    <tr>\n",
       "      <th>4</th>\n",
       "      <td>1.152</td>\n",
       "      <td>1.159</td>\n",
       "      <td>26.9085</td>\n",
       "      <td>1.111003</td>\n",
       "      <td>6.0493</td>\n",
       "      <td>1.0722</td>\n",
       "      <td>-0.2534</td>\n",
       "      <td>94.0726</td>\n",
       "      <td>0.2444</td>\n",
       "      <td>243.287</td>\n",
       "      <td>0.0028</td>\n",
       "      <td>10.33738</td>\n",
       "      <td>-117.19008</td>\n",
       "    </tr>\n",
       "  </tbody>\n",
       "</table>\n",
       "</div>"
      ],
      "text/plain": [
       "   Depth [m]  Pressure [db]  Temperature [ITS-90, deg C]  Conductivity [S/m]  \\\n",
       "0      1.152          1.159                      26.9089            1.109874   \n",
       "1      1.152          1.159                      26.9089            1.109675   \n",
       "2      1.191          1.198                      26.9089            1.109942   \n",
       "3      1.099          1.105                      26.9085            1.110464   \n",
       "4      1.152          1.159                      26.9085            1.111003   \n",
       "\n",
       "   Salinity [PSU]  Density [sigma-theta, kg/m^3]  \\\n",
       "0          6.0426                         1.0671   \n",
       "1          6.0414                         1.0662   \n",
       "2          6.0430                         1.0674   \n",
       "3          6.0461                         1.0698   \n",
       "4          6.0493                         1.0722   \n",
       "\n",
       "   Fluorescence, WET Labs ECO-AFL/FL [mg/m^3]  \\\n",
       "0                                     -0.2534   \n",
       "1                                     -0.2534   \n",
       "2                                     -0.2534   \n",
       "3                                     -0.2534   \n",
       "4                                     -0.2534   \n",
       "\n",
       "   Beam Transmission, WET Labs C-Star [%]  \\\n",
       "0                                 94.0726   \n",
       "1                                 94.0726   \n",
       "2                                 94.0726   \n",
       "3                                 94.0726   \n",
       "4                                 94.0726   \n",
       "\n",
       "   Beam Attenuation, WET Labs C-Star [1/m]  Oxygen, SBE 43 [umol/kg]  \\\n",
       "0                                   0.2444                   243.296   \n",
       "1                                   0.2444                   243.298   \n",
       "2                                   0.2444                   243.296   \n",
       "3                                   0.2444                   243.291   \n",
       "4                                   0.2444                   243.287   \n",
       "\n",
       "   Time, Elapsed [minutes]  Latitude [deg]  Longitude [deg]  \n",
       "0                   0.0000        10.33738       -117.19008  \n",
       "1                   0.0007        10.33738       -117.19008  \n",
       "2                   0.0014        10.33738       -117.19008  \n",
       "3                   0.0021        10.33738       -117.19008  \n",
       "4                   0.0028        10.33738       -117.19008  "
      ]
     },
     "execution_count": 3,
     "metadata": {},
     "output_type": "execute_result"
    }
   ],
   "source": [
    "#Check data import\n",
    "df.head()"
   ]
  },
  {
   "cell_type": "code",
   "execution_count": 4,
   "id": "860978af",
   "metadata": {},
   "outputs": [
    {
     "data": {
      "text/plain": [
       "(565674, 13)"
      ]
     },
     "execution_count": 4,
     "metadata": {},
     "output_type": "execute_result"
    }
   ],
   "source": [
    "#Check dataframe size\n",
    "df.shape"
   ]
  },
  {
   "cell_type": "code",
   "execution_count": 5,
   "id": "40294aa4",
   "metadata": {},
   "outputs": [],
   "source": [
    "# Remove rows of data with 'Bad_flags' (i.e,-9.990e-29 values)\n",
    "\n",
    "# Replace -9.990e-29 values with empty cells\n",
    "columns = df.columns.tolist()\n",
    "for x in columns:\n",
    "    df.loc[df[x] == -9.990e-29, x] = ''\n",
    "\n",
    "# Drop rows with empty cells\n",
    "df = df.dropna()"
   ]
  },
  {
   "cell_type": "code",
   "execution_count": 6,
   "id": "9995f4e7",
   "metadata": {},
   "outputs": [
    {
     "data": {
      "text/plain": [
       "(552262, 13)"
      ]
     },
     "execution_count": 6,
     "metadata": {},
     "output_type": "execute_result"
    }
   ],
   "source": [
    "#Check dataframe size - the change in row numbers indicates how much data was dropped\n",
    "df.shape"
   ]
  },
  {
   "cell_type": "code",
   "execution_count": 7,
   "id": "14508a2a",
   "metadata": {},
   "outputs": [
    {
     "data": {
      "text/plain": [
       "Depth [m]                                     float64\n",
       "Pressure [db]                                 float64\n",
       "Temperature [ITS-90, deg C]                   float64\n",
       "Conductivity [S/m]                            float64\n",
       "Salinity [PSU]                                float64\n",
       "Density [sigma-theta, kg/m^3]                 float64\n",
       "Fluorescence, WET Labs ECO-AFL/FL [mg/m^3]    float64\n",
       "Beam Transmission, WET Labs C-Star [%]        float64\n",
       "Beam Attenuation, WET Labs C-Star [1/m]       float64\n",
       "Oxygen, SBE 43 [umol/kg]                      float64\n",
       "Time, Elapsed [minutes]                       float64\n",
       "Latitude [deg]                                float64\n",
       "Longitude [deg]                               float64\n",
       "dtype: object"
      ]
     },
     "execution_count": 7,
     "metadata": {},
     "output_type": "execute_result"
    }
   ],
   "source": [
    "#Cast all columns to float64 \n",
    "df = df.apply(lambda col:pd.to_numeric(col, errors='coerce'))\n",
    "df.dtypes"
   ]
  },
  {
   "cell_type": "markdown",
   "id": "eb50d22b",
   "metadata": {},
   "source": [
    "### Visually determine up and down casts to create bins"
   ]
  },
  {
   "cell_type": "code",
   "execution_count": 16,
   "id": "e3a3638c",
   "metadata": {},
   "outputs": [
    {
     "data": {
      "image/png": "[encoded data removed]",
      "text/plain": [
       "<Figure size 504x504 with 1 Axes>"
      ]
     },
     "metadata": {
      "needs_background": "light"
     },
     "output_type": "display_data"
    }
   ],
   "source": [
    "# Generate a line plot of time v. depth to visualize bins\n",
    "data_plot = df[['Time, Elapsed [minutes]','Depth [m]']]\n",
    "\n",
    "data_plot.plot(kind=\"line\", x = 'Time, Elapsed [minutes]', y = 'Depth [m]', legend=False, figsize = (7,7))\n",
    "\n",
    "plt.title(\"CTD Tow-Yo\", fontsize = '15')\n",
    "plt.ylabel(\"Depth (meters)\", fontsize = '15')\n",
    "plt.xlabel(\"Time, Elapsed (minutes)\", fontsize = '15')\n",
    "plt.xticks(fontsize=15)\n",
    "plt.yticks(fontsize=15)\n",
    "\n",
    "plt.show()"
   ]
  },
  {
   "cell_type": "markdown",
   "id": "e7d51286",
   "metadata": {},
   "source": [
    "#### Use the graph above the create data bins - each bin will be used to create an indiviudal CSV file. In this example, files are created for all up casts, down casts, and \"holds\" (periods where depth was held constant with time). Enter your time intervals in the \"bins\" list below (excluding 0), then and give each time interval a unique label by populating the \"labels\" list. In this example, the first down cast occurs from 0 to 25 minutes and is labeled D1."
   ]
  },
  {
   "cell_type": "code",
   "execution_count": 8,
   "id": "594bb5b1",
   "metadata": {},
   "outputs": [],
   "source": [
    "#Enter your desired bin time intervals and labels in the bins and labels lists below\n",
    "\n",
    "bins = [25,53,97,125,141,146,158,172,186,193,215,245,260,266,269,274,279,300,313,322,335,349,393]\n",
    "labels = ['D1','Hold1','U1','D2','Hold2','U2','D3','U3','Hold3','D4','Hold4','U4','Hold5','D5','U5','D6','Hold6','U6','D7','U7','D8','U8']\n",
    "\n",
    "#Define bins\n",
    "df['Cast'] = pd.cut(x=df['Time, Elapsed [minutes]'], bins = bins, labels = labels, include_lowest = True)\n"
   ]
  },
  {
   "cell_type": "code",
   "execution_count": 9,
   "id": "011cfda0",
   "metadata": {},
   "outputs": [],
   "source": [
    "#Round data in Pressure column to one decimal place\n",
    "df[\"Pressure [db]\"]=df[\"Pressure [db]\"].apply(lambda x:round(x,0))"
   ]
  },
  {
   "cell_type": "code",
   "execution_count": 10,
   "id": "333032a0",
   "metadata": {},
   "outputs": [],
   "source": [
    "#Build groupby function to cut dataframe into individual casts\n",
    "#Export individual casts into CSV files\n",
    "#You may replace CAST# with your unique cast label, bin labels automatically populate to each CSV file\n",
    "casts = ['D1','Hold1','U1','D2','Hold2','U2','D3','U3','Hold3','D4','Hold4','U4','Hold5','D5','U5','D6','Hold6','U6','D7','U7','D8','U8']\n",
    "df_out=[]\n",
    "\n",
    "for c, name in enumerate(casts):\n",
    "    mask=(df[\"Cast\"])==name\n",
    "    df_out=df.loc[mask].groupby([\"Pressure [db]\"],as_index=False).mean()\n",
    "    df_out[\"Cast\"]=name\n",
    "    df_out.append(df_out)\n",
    "    df_out.to_csv(\"CAST#_\"+name+\".csv\")"
   ]
  }
 ],
 "metadata": {
  "kernelspec": {
   "display_name": "Python 3",
   "language": "python",
   "name": "python3"
  },
  "language_info": {
   "codemirror_mode": {
    "name": "ipython",
    "version": 3
   },
   "file_extension": ".py",
   "mimetype": "text/x-python",
   "name": "python",
   "nbconvert_exporter": "python",
   "pygments_lexer": "ipython3",
   "version": "3.7.11"
  }
 },
 "nbformat": 4,
 "nbformat_minor": 5
}
